{
 "cells": [
  {
   "cell_type": "code",
   "execution_count": 1,
   "metadata": {
    "collapsed": true
   },
   "outputs": [],
   "source": [
    "import os\n",
    "import proactive"
   ]
  },
  {
   "cell_type": "code",
   "execution_count": 2,
   "metadata": {},
   "outputs": [
    {
     "name": "stdout",
     "output_type": "stream",
     "text": [
      "Logging on proactive-server...\n",
      "Connecting on: http://try.activeeon.com:8080\n"
     ]
    }
   ],
   "source": [
    "print(\"Logging on proactive-server...\")\n",
    "proactive_host = 'try.activeeon.com'\n",
    "proactive_port = '8080'\n",
    "proactive_url  = \"http://\"+proactive_host+\":\"+proactive_port\n",
    "print(\"Connecting on: \" + proactive_url)\n",
    "javaopts=[]\n",
    "# uncomment for detailed logs\n",
    "# javaopts.append('-Dlog4j.configuration=file:'+os.path.join(os.getcwd(),'log4j.properties'))\n",
    "redirectJVMOutput=False\n",
    "gateway = proactive.ProActiveGateway(proactive_url, javaopts, redirectJVMOutput)"
   ]
  },
  {
   "cell_type": "code",
   "execution_count": 4,
   "metadata": {},
   "outputs": [
    {
     "name": "stdout",
     "output_type": "stream",
     "text": [
      "Connected\n"
     ]
    }
   ],
   "source": [
    "gateway.connect(username=\"\", password=\"\")  # put your login here!\n",
    "assert gateway.isConnected() is True\n",
    "print(\"Connected\")"
   ]
  },
  {
   "cell_type": "code",
   "execution_count": 5,
   "metadata": {},
   "outputs": [
    {
     "name": "stdout",
     "output_type": "stream",
     "text": [
      "Creating a proactive task...\n"
     ]
    }
   ],
   "source": [
    "print(\"Creating a proactive task...\")\n",
    "proactive_task = gateway.createPythonTask()\n",
    "proactive_task.setTaskName(\"SimplePythonTask\")\n",
    "proactive_task.setTaskImplementationFromFile('main.py', ['param1', 'param2'])\n",
    "proactive_task.addInputFile('scripts/__init__.py')\n",
    "proactive_task.addInputFile('scripts/hello.py')"
   ]
  },
  {
   "cell_type": "code",
   "execution_count": 6,
   "metadata": {},
   "outputs": [
    {
     "name": "stdout",
     "output_type": "stream",
     "text": [
      "Adding a fork environment to the proactive task...\n"
     ]
    }
   ],
   "source": [
    "print(\"Adding a fork environment to the proactive task...\")\n",
    "proactive_fork_env = gateway.createDefaultForkEnvironment()\n",
    "proactive_fork_env.setImplementationFromFile(\"scripts/fork_env.py\")\n",
    "proactive_task.setForkEnvironment(proactive_fork_env)"
   ]
  },
  {
   "cell_type": "code",
   "execution_count": 7,
   "metadata": {},
   "outputs": [
    {
     "name": "stdout",
     "output_type": "stream",
     "text": [
      "Adding a selection script to the proactive task...\n"
     ]
    }
   ],
   "source": [
    "print(\"Adding a selection script to the proactive task...\")\n",
    "proactive_selection_script = gateway.createDefaultSelectionScript()\n",
    "proactive_selection_script.setImplementationFromFile(\"scripts/selection_script.py\")\n",
    "proactive_task.setSelectionScript(proactive_selection_script)"
   ]
  },
  {
   "cell_type": "code",
   "execution_count": 8,
   "metadata": {},
   "outputs": [
    {
     "name": "stdout",
     "output_type": "stream",
     "text": [
      "Creating a proactive job...\n"
     ]
    }
   ],
   "source": [
    "print(\"Creating a proactive job...\")\n",
    "proactive_job = gateway.createJob()\n",
    "proactive_job.setJobName(\"SimpleJob\")\n",
    "proactive_job.addTask(proactive_task)\n",
    "proactive_job.setInputFolder(os.getcwd())\n",
    "proactive_job.setOutputFolder(os.getcwd())"
   ]
  },
  {
   "cell_type": "code",
   "execution_count": 9,
   "metadata": {},
   "outputs": [
    {
     "name": "stdout",
     "output_type": "stream",
     "text": [
      "Submitting the job to the proactive scheduler...\n",
      "Files to transfer:  3\n",
      "job_id: 59\n"
     ]
    }
   ],
   "source": [
    "print(\"Submitting the job to the proactive scheduler...\")\n",
    "job_id = gateway.submitJob(proactive_job, debug=False)\n",
    "print(\"job_id: \" + str(job_id))"
   ]
  },
  {
   "cell_type": "code",
   "execution_count": 10,
   "metadata": {},
   "outputs": [
    {
     "name": "stdout",
     "output_type": "stream",
     "text": [
      "Getting job output...\n",
      "Hello world!\n",
      "Hello param1!\n",
      "Hello param2!\n"
     ]
    }
   ],
   "source": [
    "print(\"Getting job output...\")\n",
    "job_result = gateway.getJobResult(job_id)\n",
    "print(job_result)"
   ]
  },
  {
   "cell_type": "code",
   "execution_count": 11,
   "metadata": {},
   "outputs": [
    {
     "name": "stdout",
     "output_type": "stream",
     "text": [
      "Disconnecting\n",
      "Disconnected\n",
      "Finished\n"
     ]
    }
   ],
   "source": [
    "print(\"Disconnecting\")\n",
    "gateway.disconnect()\n",
    "print(\"Disconnected\")\n",
    "gateway.terminate()\n",
    "print(\"Finished\")"
   ]
  },
  {
   "cell_type": "code",
   "execution_count": null,
   "metadata": {
    "collapsed": true
   },
   "outputs": [],
   "source": []
  }
 ],
 "metadata": {
  "kernelspec": {
   "display_name": "Python 3",
   "language": "python",
   "name": "python3"
  },
  "language_info": {
   "codemirror_mode": {
    "name": "ipython",
    "version": 3
   },
   "file_extension": ".py",
   "mimetype": "text/x-python",
   "name": "python",
   "nbconvert_exporter": "python",
   "pygments_lexer": "ipython3",
   "version": "3.6.3"
  }
 },
 "nbformat": 4,
 "nbformat_minor": 2
}
